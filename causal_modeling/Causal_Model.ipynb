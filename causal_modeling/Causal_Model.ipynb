{
 "cells": [
  {
   "cell_type": "code",
   "execution_count": 188,
   "metadata": {},
   "outputs": [],
   "source": [
    "# Import necessary packages\n",
    "import pandas as pd\n",
    "from pgmpy.models import BayesianModel\n",
    "from pgmpy.estimators import BayesianEstimator\n",
    "import pyro\n",
    "import pyro.distributions as dist\n",
    "from pyro.infer import Importance, EmpiricalMarginal\n",
    "import torch\n",
    "import numpy as np\n",
    "import xarray"
   ]
  },
  {
   "cell_type": "code",
   "execution_count": 212,
   "metadata": {},
   "outputs": [],
   "source": [
    "# Read in the dataset\n",
    "data = pd.read_csv(\"../datasets/dag_data.csv\")"
   ]
  },
  {
   "cell_type": "markdown",
   "metadata": {},
   "source": [
    "# Create probability tensors for Pyro DAG "
   ]
  },
  {
   "cell_type": "markdown",
   "metadata": {},
   "source": [
    "### 1. Construct conditional probability tables from the dataset:"
   ]
  },
  {
   "cell_type": "code",
   "execution_count": 3,
   "metadata": {},
   "outputs": [],
   "source": [
    "# Get probabilities of Citizen Political Leaning category\n",
    "cpl_proba_df = data.CPL.value_counts() / len(data)\n",
    "# Get probabilities of High School category\n",
    "hs_proba_df = data.HS.value_counts() / len(data)\n",
    "# Get probabilities of Median Income category\n",
    "mi_proba_df = data.MI.value_counts() / len(data)\n",
    "# Get probabilities of Urban Influence category\n",
    "ui_proba_df = data.UI.value_counts() / len(data)\n",
    "# Get probabilities of State Political Leaning category\n",
    "spl_proba_df = data.SPL.value_counts() / len(data)\n",
    "# Get conditional probabilities of ICU category\n",
    "icu_proba_df = pd.crosstab(data.ICU, data.UI, normalize='columns')\n",
    "# Get conditional probabilities of Ban on Large Gatherings category\n",
    "blg_proba_df = pd.crosstab(data.BLG, data.SPL, normalize='columns')\n",
    "# Get conditional probabilities of CDC abidance category\n",
    "cdc_proba_df = pd.crosstab(data.CDC, [data.HS, data.MI, data.CPL], normalize='columns')\n",
    "# Get conditional probabilities of outcome variable, County Confirmed Case Rate\n",
    "cc_proba_df = pd.crosstab(data.CC, [data.ICU, data.BLG, data.CDC], normalize='columns')\n"
   ]
  },
  {
   "cell_type": "code",
   "execution_count": 230,
   "metadata": {},
   "outputs": [
    {
     "data": {
      "text/html": [
       "<div>\n",
       "<style scoped>\n",
       "    .dataframe tbody tr th:only-of-type {\n",
       "        vertical-align: middle;\n",
       "    }\n",
       "\n",
       "    .dataframe tbody tr th {\n",
       "        vertical-align: top;\n",
       "    }\n",
       "\n",
       "    .dataframe thead tr th {\n",
       "        text-align: left;\n",
       "    }\n",
       "\n",
       "    .dataframe thead tr:last-of-type th {\n",
       "        text-align: right;\n",
       "    }\n",
       "</style>\n",
       "<table border=\"1\" class=\"dataframe\">\n",
       "  <thead>\n",
       "    <tr>\n",
       "      <th>HS</th>\n",
       "      <th colspan=\"10\" halign=\"left\">High</th>\n",
       "      <th>...</th>\n",
       "      <th colspan=\"10\" halign=\"left\">Very Low</th>\n",
       "    </tr>\n",
       "    <tr>\n",
       "      <th>MI</th>\n",
       "      <th colspan=\"7\" halign=\"left\">High</th>\n",
       "      <th colspan=\"3\" halign=\"left\">Low</th>\n",
       "      <th>...</th>\n",
       "      <th colspan=\"3\" halign=\"left\">Very High</th>\n",
       "      <th colspan=\"7\" halign=\"left\">Very Low</th>\n",
       "    </tr>\n",
       "    <tr>\n",
       "      <th>CPL</th>\n",
       "      <th>Democrat</th>\n",
       "      <th>Even</th>\n",
       "      <th>Heavily Democrat</th>\n",
       "      <th>Heavily Republican</th>\n",
       "      <th>Leaning Democrat</th>\n",
       "      <th>Leaning Republican</th>\n",
       "      <th>Republican</th>\n",
       "      <th>Democrat</th>\n",
       "      <th>Even</th>\n",
       "      <th>Heavily Democrat</th>\n",
       "      <th>...</th>\n",
       "      <th>Leaning Democrat</th>\n",
       "      <th>Leaning Republican</th>\n",
       "      <th>Republican</th>\n",
       "      <th>Democrat</th>\n",
       "      <th>Even</th>\n",
       "      <th>Heavily Democrat</th>\n",
       "      <th>Heavily Republican</th>\n",
       "      <th>Leaning Democrat</th>\n",
       "      <th>Leaning Republican</th>\n",
       "      <th>Republican</th>\n",
       "    </tr>\n",
       "    <tr>\n",
       "      <th>CDC</th>\n",
       "      <th></th>\n",
       "      <th></th>\n",
       "      <th></th>\n",
       "      <th></th>\n",
       "      <th></th>\n",
       "      <th></th>\n",
       "      <th></th>\n",
       "      <th></th>\n",
       "      <th></th>\n",
       "      <th></th>\n",
       "      <th></th>\n",
       "      <th></th>\n",
       "      <th></th>\n",
       "      <th></th>\n",
       "      <th></th>\n",
       "      <th></th>\n",
       "      <th></th>\n",
       "      <th></th>\n",
       "      <th></th>\n",
       "      <th></th>\n",
       "      <th></th>\n",
       "    </tr>\n",
       "  </thead>\n",
       "  <tbody>\n",
       "    <tr>\n",
       "      <th>AlwaysWearMasks</th>\n",
       "      <td>1.0</td>\n",
       "      <td>1.0</td>\n",
       "      <td>0.0</td>\n",
       "      <td>0.953846</td>\n",
       "      <td>1.0</td>\n",
       "      <td>1.0</td>\n",
       "      <td>1.0</td>\n",
       "      <td>0.0</td>\n",
       "      <td>0.857143</td>\n",
       "      <td>1.0</td>\n",
       "      <td>...</td>\n",
       "      <td>1.0</td>\n",
       "      <td>1.0</td>\n",
       "      <td>0.972973</td>\n",
       "      <td>0.0</td>\n",
       "      <td>1.0</td>\n",
       "      <td>0.0</td>\n",
       "      <td>0.888889</td>\n",
       "      <td>1.0</td>\n",
       "      <td>1.0</td>\n",
       "      <td>0.0</td>\n",
       "    </tr>\n",
       "    <tr>\n",
       "      <th>FrequentlyWearMasks</th>\n",
       "      <td>0.0</td>\n",
       "      <td>0.0</td>\n",
       "      <td>0.0</td>\n",
       "      <td>0.046154</td>\n",
       "      <td>0.0</td>\n",
       "      <td>0.0</td>\n",
       "      <td>0.0</td>\n",
       "      <td>0.0</td>\n",
       "      <td>0.000000</td>\n",
       "      <td>0.0</td>\n",
       "      <td>...</td>\n",
       "      <td>0.0</td>\n",
       "      <td>0.0</td>\n",
       "      <td>0.000000</td>\n",
       "      <td>0.0</td>\n",
       "      <td>0.0</td>\n",
       "      <td>0.0</td>\n",
       "      <td>0.111111</td>\n",
       "      <td>0.0</td>\n",
       "      <td>0.0</td>\n",
       "      <td>0.0</td>\n",
       "    </tr>\n",
       "    <tr>\n",
       "      <th>NeverWearMasks</th>\n",
       "      <td>0.0</td>\n",
       "      <td>0.0</td>\n",
       "      <td>0.0</td>\n",
       "      <td>0.000000</td>\n",
       "      <td>0.0</td>\n",
       "      <td>0.0</td>\n",
       "      <td>0.0</td>\n",
       "      <td>0.0</td>\n",
       "      <td>0.142857</td>\n",
       "      <td>0.0</td>\n",
       "      <td>...</td>\n",
       "      <td>0.0</td>\n",
       "      <td>0.0</td>\n",
       "      <td>0.000000</td>\n",
       "      <td>0.0</td>\n",
       "      <td>0.0</td>\n",
       "      <td>0.0</td>\n",
       "      <td>0.000000</td>\n",
       "      <td>0.0</td>\n",
       "      <td>0.0</td>\n",
       "      <td>0.0</td>\n",
       "    </tr>\n",
       "    <tr>\n",
       "      <th>RarelyWearMasks</th>\n",
       "      <td>0.0</td>\n",
       "      <td>0.0</td>\n",
       "      <td>0.0</td>\n",
       "      <td>0.000000</td>\n",
       "      <td>0.0</td>\n",
       "      <td>0.0</td>\n",
       "      <td>0.0</td>\n",
       "      <td>0.0</td>\n",
       "      <td>0.000000</td>\n",
       "      <td>0.0</td>\n",
       "      <td>...</td>\n",
       "      <td>0.0</td>\n",
       "      <td>0.0</td>\n",
       "      <td>0.000000</td>\n",
       "      <td>0.0</td>\n",
       "      <td>0.0</td>\n",
       "      <td>0.0</td>\n",
       "      <td>0.000000</td>\n",
       "      <td>0.0</td>\n",
       "      <td>0.0</td>\n",
       "      <td>0.0</td>\n",
       "    </tr>\n",
       "    <tr>\n",
       "      <th>SometimesWearMasks</th>\n",
       "      <td>0.0</td>\n",
       "      <td>0.0</td>\n",
       "      <td>0.0</td>\n",
       "      <td>0.000000</td>\n",
       "      <td>0.0</td>\n",
       "      <td>0.0</td>\n",
       "      <td>0.0</td>\n",
       "      <td>0.0</td>\n",
       "      <td>0.000000</td>\n",
       "      <td>0.0</td>\n",
       "      <td>...</td>\n",
       "      <td>0.0</td>\n",
       "      <td>0.0</td>\n",
       "      <td>0.027027</td>\n",
       "      <td>0.0</td>\n",
       "      <td>0.0</td>\n",
       "      <td>0.0</td>\n",
       "      <td>0.000000</td>\n",
       "      <td>0.0</td>\n",
       "      <td>0.0</td>\n",
       "      <td>0.0</td>\n",
       "    </tr>\n",
       "  </tbody>\n",
       "</table>\n",
       "<p>5 rows × 175 columns</p>\n",
       "</div>"
      ],
      "text/plain": [
       "HS                      High                                           \\\n",
       "MI                      High                                            \n",
       "CPL                 Democrat Even Heavily Democrat Heavily Republican   \n",
       "CDC                                                                     \n",
       "AlwaysWearMasks          1.0  1.0              0.0           0.953846   \n",
       "FrequentlyWearMasks      0.0  0.0              0.0           0.046154   \n",
       "NeverWearMasks           0.0  0.0              0.0           0.000000   \n",
       "RarelyWearMasks          0.0  0.0              0.0           0.000000   \n",
       "SometimesWearMasks       0.0  0.0              0.0           0.000000   \n",
       "\n",
       "HS                                                                           \\\n",
       "MI                                                                      Low   \n",
       "CPL                 Leaning Democrat Leaning Republican Republican Democrat   \n",
       "CDC                                                                           \n",
       "AlwaysWearMasks                  1.0                1.0        1.0      0.0   \n",
       "FrequentlyWearMasks              0.0                0.0        0.0      0.0   \n",
       "NeverWearMasks                   0.0                0.0        0.0      0.0   \n",
       "RarelyWearMasks                  0.0                0.0        0.0      0.0   \n",
       "SometimesWearMasks               0.0                0.0        0.0      0.0   \n",
       "\n",
       "HS                                              ...         Very Low  \\\n",
       "MI                                              ...        Very High   \n",
       "CPL                      Even Heavily Democrat  ... Leaning Democrat   \n",
       "CDC                                             ...                    \n",
       "AlwaysWearMasks      0.857143              1.0  ...              1.0   \n",
       "FrequentlyWearMasks  0.000000              0.0  ...              0.0   \n",
       "NeverWearMasks       0.142857              0.0  ...              0.0   \n",
       "RarelyWearMasks      0.000000              0.0  ...              0.0   \n",
       "SometimesWearMasks   0.000000              0.0  ...              0.0   \n",
       "\n",
       "HS                                                               \\\n",
       "MI                                                Very Low        \n",
       "CPL                 Leaning Republican Republican Democrat Even   \n",
       "CDC                                                               \n",
       "AlwaysWearMasks                    1.0   0.972973      0.0  1.0   \n",
       "FrequentlyWearMasks                0.0   0.000000      0.0  0.0   \n",
       "NeverWearMasks                     0.0   0.000000      0.0  0.0   \n",
       "RarelyWearMasks                    0.0   0.000000      0.0  0.0   \n",
       "SometimesWearMasks                 0.0   0.027027      0.0  0.0   \n",
       "\n",
       "HS                                                                        \\\n",
       "MI                                                                         \n",
       "CPL                 Heavily Democrat Heavily Republican Leaning Democrat   \n",
       "CDC                                                                        \n",
       "AlwaysWearMasks                  0.0           0.888889              1.0   \n",
       "FrequentlyWearMasks              0.0           0.111111              0.0   \n",
       "NeverWearMasks                   0.0           0.000000              0.0   \n",
       "RarelyWearMasks                  0.0           0.000000              0.0   \n",
       "SometimesWearMasks               0.0           0.000000              0.0   \n",
       "\n",
       "HS                                                 \n",
       "MI                                                 \n",
       "CPL                 Leaning Republican Republican  \n",
       "CDC                                                \n",
       "AlwaysWearMasks                    1.0        0.0  \n",
       "FrequentlyWearMasks                0.0        0.0  \n",
       "NeverWearMasks                     0.0        0.0  \n",
       "RarelyWearMasks                    0.0        0.0  \n",
       "SometimesWearMasks                 0.0        0.0  \n",
       "\n",
       "[5 rows x 175 columns]"
      ]
     },
     "execution_count": 230,
     "metadata": {},
     "output_type": "execute_result"
    }
   ],
   "source": [
    "cdc_proba_df = pd.crosstab(data.CDC, [data.HS, data.MI, data.CPL], normalize='columns', dropna=False)\n",
    "cdc_proba_df"
   ]
  },
  {
   "cell_type": "markdown",
   "metadata": {},
   "source": [
    "### 2. Convert conditional probability tables to tensors:"
   ]
  },
  {
   "cell_type": "code",
   "execution_count": 189,
   "metadata": {},
   "outputs": [],
   "source": [
    "def convert_to_tensor(df):\n",
    "    arrays = [arr for arr in df.values]\n",
    "    return torch.tensor(np.stack(arrays).tolist())\n",
    "\n",
    "hs_proba = convert_to_tensor(hs_proba_df)\n",
    "mi_proba = convert_to_tensor(mi_proba_df)\n",
    "ui_proba = convert_to_tensor(ui_proba_df)\n",
    "spl_proba = convert_to_tensor(spl_proba_df)\n",
    "cpl_proba = convert_to_tensor(cpl_proba_df)\n",
    "icu_proba = convert_to_tensor(icu_proba_df)\n",
    "cdc_proba = convert_to_tensor(cdc_proba_df)\n",
    "blg_proba = convert_to_tensor(blg_proba_df)\n",
    "cc_proba = convert_to_tensor(cc_proba_df)\n",
    "\n"
   ]
  },
  {
   "cell_type": "markdown",
   "metadata": {},
   "source": [
    "# Construct a DAG model in Pyro to experiment with interventions and conditional modeling"
   ]
  },
  {
   "cell_type": "markdown",
   "metadata": {},
   "source": [
    "### 1. Construct a DAG using the pgmpy Python package, fit the DAG on the dataset, then   extract conditional probability tables for each variable."
   ]
  },
  {
   "cell_type": "markdown",
   "metadata": {},
   "source": [
    "#### Construct a DAG using the pgmpy package.\n",
    "We will model interventions and inferences on the DAG using pyro, but loading the data into a pygmy Bayesian network will allow us to easily transfer large conditional probability tables to pyro. "
   ]
  },
  {
   "cell_type": "code",
   "execution_count": 9,
   "metadata": {},
   "outputs": [],
   "source": [
    "# Create a Bayesian model using pgmpy to represent the DAG.\n",
    "# bayes_model = BayesianModel([('CPL', 'CDC'), ('HS', 'CDC'), ('MI', 'CDC'), ('CDC', 'CC'), \n",
    "#                           ('UI', 'ICU'),('ICU', 'CC'), ('SPL', 'BLG'), ('BLG', 'CC')])"
   ]
  },
  {
   "cell_type": "markdown",
   "metadata": {},
   "source": [
    "#### Fit the model on the cleaned dataset."
   ]
  },
  {
   "cell_type": "code",
   "execution_count": 10,
   "metadata": {},
   "outputs": [],
   "source": [
    "# Fit the Bayesian model on the dataset.\n",
    "# bayes_model.fit(data)"
   ]
  },
  {
   "cell_type": "markdown",
   "metadata": {},
   "source": [
    "#### Extract conditional probability tables for every variable in the DAG."
   ]
  },
  {
   "cell_type": "code",
   "execution_count": 11,
   "metadata": {},
   "outputs": [],
   "source": [
    "# Extract conditional probability tables from each variable in the DAG.\n",
    "# cpl_probs = torch.tensor(bayes_model.get_cpds(node=\"CPL\").values.T)\n",
    "# cdc_probs = torch.tensor(bayes_model.get_cpds(node=\"CDC\").values.T)\n",
    "# hs_probs = torch.tensor(bayes_model.get_cpds(node=\"HS\").values.T)\n",
    "# mi_probs = torch.tensor(bayes_model.get_cpds(node=\"MI\").values.T)\n",
    "# ui_probs = torch.tensor(bayes_model.get_cpds(node=\"UI\").values.T)\n",
    "# icu_probs = torch.tensor(bayes_model.get_cpds(node=\"ICU\").values.T)\n",
    "# spl_probs = torch.tensor(bayes_model.get_cpds(node=\"SPL\").values.T)\n",
    "# blg_probs = torch.tensor(bayes_model.get_cpds(node=\"BLG\").values.T)\n",
    "# cc_probs = torch.tensor(bayes_model.get_cpds(node=\"CC\").values.T)\n",
    "\n",
    "# cdc_probs"
   ]
  },
  {
   "cell_type": "markdown",
   "metadata": {},
   "source": [
    "### 2. Construct a DAG in Pyro, built upon the conditional probability tables extracted from the pgmpy Bayesian network."
   ]
  },
  {
   "cell_type": "code",
   "execution_count": 40,
   "metadata": {},
   "outputs": [
    {
     "ename": "IndexError",
     "evalue": "too many indices for tensor of dimension 0",
     "output_type": "error",
     "traceback": [
      "\u001b[0;31m---------------------------------------------------------------------------\u001b[0m",
      "\u001b[0;31mIndexError\u001b[0m                                Traceback (most recent call last)",
      "\u001b[0;32m<ipython-input-40-f5c0327fc748>\u001b[0m in \u001b[0;36m<module>\u001b[0;34m\u001b[0m\n\u001b[1;32m     12\u001b[0m            \"ICU\": ICU, \"SPL\" : SPL, \"BLG\" : BLG, \"CC\" : CC} \n\u001b[1;32m     13\u001b[0m \u001b[0;34m\u001b[0m\u001b[0m\n\u001b[0;32m---> 14\u001b[0;31m \u001b[0mprint\u001b[0m\u001b[0;34m(\u001b[0m\u001b[0mcc_pyro_model\u001b[0m\u001b[0;34m(\u001b[0m\u001b[0;34m)\u001b[0m\u001b[0;34m)\u001b[0m\u001b[0;34m\u001b[0m\u001b[0m\n\u001b[0m",
      "\u001b[0;32m<ipython-input-40-f5c0327fc748>\u001b[0m in \u001b[0;36mcc_pyro_model\u001b[0;34m()\u001b[0m\n\u001b[1;32m      5\u001b[0m     \u001b[0mUI\u001b[0m \u001b[0;34m=\u001b[0m \u001b[0mpyro\u001b[0m\u001b[0;34m.\u001b[0m\u001b[0msample\u001b[0m\u001b[0;34m(\u001b[0m\u001b[0;34m\"UI\"\u001b[0m\u001b[0;34m,\u001b[0m \u001b[0mdist\u001b[0m\u001b[0;34m.\u001b[0m\u001b[0mCategorical\u001b[0m\u001b[0;34m(\u001b[0m\u001b[0mprobs\u001b[0m\u001b[0;34m=\u001b[0m\u001b[0mui_proba\u001b[0m\u001b[0;34m)\u001b[0m\u001b[0;34m)\u001b[0m\u001b[0;34m\u001b[0m\u001b[0m\n\u001b[1;32m      6\u001b[0m     \u001b[0mSPL\u001b[0m \u001b[0;34m=\u001b[0m \u001b[0mpyro\u001b[0m\u001b[0;34m.\u001b[0m\u001b[0msample\u001b[0m\u001b[0;34m(\u001b[0m\u001b[0;34m\"SPL\"\u001b[0m\u001b[0;34m,\u001b[0m \u001b[0mdist\u001b[0m\u001b[0;34m.\u001b[0m\u001b[0mCategorical\u001b[0m\u001b[0;34m(\u001b[0m\u001b[0mprobs\u001b[0m\u001b[0;34m=\u001b[0m\u001b[0mspl_proba\u001b[0m\u001b[0;34m)\u001b[0m\u001b[0;34m)\u001b[0m\u001b[0;34m\u001b[0m\u001b[0m\n\u001b[0;32m----> 7\u001b[0;31m     \u001b[0mCDC\u001b[0m \u001b[0;34m=\u001b[0m \u001b[0mpyro\u001b[0m\u001b[0;34m.\u001b[0m\u001b[0msample\u001b[0m\u001b[0;34m(\u001b[0m\u001b[0;34m\"CDC\"\u001b[0m\u001b[0;34m,\u001b[0m \u001b[0mdist\u001b[0m\u001b[0;34m.\u001b[0m\u001b[0mCategorical\u001b[0m\u001b[0;34m(\u001b[0m\u001b[0mprobs\u001b[0m\u001b[0;34m=\u001b[0m\u001b[0mcdc_proba\u001b[0m\u001b[0;34m[\u001b[0m\u001b[0mHS\u001b[0m\u001b[0;34m]\u001b[0m\u001b[0;34m[\u001b[0m\u001b[0mMI\u001b[0m\u001b[0;34m]\u001b[0m\u001b[0;34m[\u001b[0m\u001b[0mCPL\u001b[0m\u001b[0;34m]\u001b[0m\u001b[0;34m)\u001b[0m\u001b[0;34m)\u001b[0m  \u001b[0;31m# ???????\u001b[0m\u001b[0;34m\u001b[0m\u001b[0m\n\u001b[0m\u001b[1;32m      8\u001b[0m     \u001b[0mICU\u001b[0m \u001b[0;34m=\u001b[0m \u001b[0mpyro\u001b[0m\u001b[0;34m.\u001b[0m\u001b[0msample\u001b[0m\u001b[0;34m(\u001b[0m\u001b[0;34m\"ICU\"\u001b[0m\u001b[0;34m,\u001b[0m \u001b[0mdist\u001b[0m\u001b[0;34m.\u001b[0m\u001b[0mCategorical\u001b[0m\u001b[0;34m(\u001b[0m\u001b[0mprobs\u001b[0m\u001b[0;34m=\u001b[0m\u001b[0micu_proba\u001b[0m\u001b[0;34m[\u001b[0m\u001b[0mUI\u001b[0m\u001b[0;34m]\u001b[0m\u001b[0;34m)\u001b[0m\u001b[0;34m)\u001b[0m\u001b[0;34m\u001b[0m\u001b[0m\n\u001b[1;32m      9\u001b[0m     \u001b[0mBLG\u001b[0m \u001b[0;34m=\u001b[0m \u001b[0mpyro\u001b[0m\u001b[0;34m.\u001b[0m\u001b[0msample\u001b[0m\u001b[0;34m(\u001b[0m\u001b[0;34m\"BLG\"\u001b[0m\u001b[0;34m,\u001b[0m \u001b[0mdist\u001b[0m\u001b[0;34m.\u001b[0m\u001b[0mCategorical\u001b[0m\u001b[0;34m(\u001b[0m\u001b[0mprobs\u001b[0m\u001b[0;34m=\u001b[0m\u001b[0mblg_proba\u001b[0m\u001b[0;34m[\u001b[0m\u001b[0mSPL\u001b[0m\u001b[0;34m]\u001b[0m\u001b[0;34m)\u001b[0m\u001b[0;34m)\u001b[0m\u001b[0;34m\u001b[0m\u001b[0m\n",
      "\u001b[0;31mIndexError\u001b[0m: too many indices for tensor of dimension 0"
     ]
    }
   ],
   "source": [
    "def cc_pyro_model():\n",
    "    CPL = pyro.sample(\"CPL\", dist.Categorical(probs=cpl_proba)) \n",
    "    HS = pyro.sample(\"HS\", dist.Categorical(probs=hs_proba)) \n",
    "    MI = pyro.sample(\"MI\", dist.Categorical(probs=mi_proba)) \n",
    "    UI = pyro.sample(\"UI\", dist.Categorical(probs=ui_proba))\n",
    "    SPL = pyro.sample(\"SPL\", dist.Categorical(probs=spl_proba))\n",
    "    CDC = pyro.sample(\"CDC\", dist.Categorical(probs=cdc_proba[HS][MI][CPL]))  # ???????\n",
    "    ICU = pyro.sample(\"ICU\", dist.Categorical(probs=icu_proba[UI]))\n",
    "    BLG = pyro.sample(\"BLG\", dist.Categorical(probs=blg_proba[SPL]))\n",
    "    CC = pyro.sample(\"CC\", dist.Categorical(probs=cc_proba[ICU][BLG][CDC])) # ????????\n",
    "    return{\"CPL\": CPL, \"CDC\": CDC, \"HS\" : HS, \"MI\": MI, \"UI\": UI,\n",
    "           \"ICU\": ICU, \"SPL\" : SPL, \"BLG\" : BLG, \"CC\" : CC} \n",
    "\n",
    "print(cc_pyro_model())"
   ]
  },
  {
   "cell_type": "markdown",
   "metadata": {},
   "source": [
    "##  ^ TODO: Look at the order of conditional variables in the above CDC and CC conditional probability tensors. How should they be ordered? I guessed on the order of tensors"
   ]
  },
  {
   "cell_type": "markdown",
   "metadata": {},
   "source": [
    "# Test Hypotheses about the Data"
   ]
  },
  {
   "cell_type": "markdown",
   "metadata": {},
   "source": [
    "### Hypothesis 1. Counties in which there are fewer ICU beds report fewer COVID-19 confirmed cases per 100,000 people. "
   ]
  },
  {
   "cell_type": "code",
   "execution_count": null,
   "metadata": {},
   "outputs": [],
   "source": [
    "# Determine the tensor index that corresponds to ICU = low\n",
    "bayes_model.get_cpds(node=\"ICU\").state_names[\"ICU\"]\n"
   ]
  },
  {
   "cell_type": "code",
   "execution_count": null,
   "metadata": {},
   "outputs": [],
   "source": [
    "# Create conditioned model where ICU = \"low\"\n",
    "icu_conditioned_model = pyro.condition(cc_pyro_model, data={'ICU':torch.tensor(1)})"
   ]
  },
  {
   "cell_type": "markdown",
   "metadata": {},
   "source": [
    "###  Hypothesis 2. Counties that ban large gatherings report more COVID-19 confirmed cases per 100,000 people."
   ]
  },
  {
   "cell_type": "code",
   "execution_count": null,
   "metadata": {},
   "outputs": [],
   "source": []
  }
 ],
 "metadata": {
  "kernelspec": {
   "display_name": "Python 3",
   "language": "python",
   "name": "python3"
  },
  "language_info": {
   "codemirror_mode": {
    "name": "ipython",
    "version": 3
   },
   "file_extension": ".py",
   "mimetype": "text/x-python",
   "name": "python",
   "nbconvert_exporter": "python",
   "pygments_lexer": "ipython3",
   "version": "3.6.4"
  }
 },
 "nbformat": 4,
 "nbformat_minor": 2
}
