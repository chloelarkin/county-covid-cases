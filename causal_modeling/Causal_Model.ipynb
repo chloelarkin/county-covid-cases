{
 "cells": [
  {
   "cell_type": "code",
   "execution_count": 1,
   "metadata": {},
   "outputs": [],
   "source": [
    "# Import necessary packages\n",
    "import matplotlib.pylab as plt\n",
    "\n",
    "import pandas as pd\n",
    "from pgmpy.models import BayesianModel\n",
    "from pgmpy.estimators import BayesianEstimator\n",
    "import pyro\n",
    "import pyro.distributions as dist\n",
    "from pyro.infer import Importance, EmpiricalMarginal\n",
    "import torch\n",
    "import numpy as np\n",
    "import xarray"
   ]
  },
  {
   "cell_type": "code",
   "execution_count": 2,
   "metadata": {},
   "outputs": [],
   "source": [
    "# Read in the dataset\n",
    "data = pd.read_csv(\"../datasets/dag_data.csv\")"
   ]
  },
  {
   "cell_type": "markdown",
   "metadata": {},
   "source": [
    "# Construct a DAG model in Pyro to experiment with interventions and conditional modeling"
   ]
  },
  {
   "cell_type": "markdown",
   "metadata": {},
   "source": [
    "### 1. Construct a DAG using the pgmpy Python package, fit the DAG on the dataset, then   extract conditional probability tables for each variable."
   ]
  },
  {
   "cell_type": "markdown",
   "metadata": {},
   "source": [
    "#### Construct a DAG using the pgmpy package.\n",
    "We will model interventions and inferences on the DAG using the Pyro data science package for Python, but loading the data into a pygmy Bayesian network will allow us to easily transfer large conditional probability tables to Pyro. "
   ]
  },
  {
   "cell_type": "code",
   "execution_count": 3,
   "metadata": {},
   "outputs": [],
   "source": [
    "# Create a Bayesian model using pgmpy to represent the DAG.\n",
    "bayes_model = BayesianModel([('CPL', 'CDC'), ('HS', 'CDC'), ('MI', 'CDC'), ('CDC', 'CC'), \n",
    "                          ('UI', 'ICU'),('ICU', 'CC'), ('SPL', 'BLG'), ('BLG', 'CC')])"
   ]
  },
  {
   "cell_type": "markdown",
   "metadata": {},
   "source": [
    "#### Fit the model on the cleaned dataset."
   ]
  },
  {
   "cell_type": "code",
   "execution_count": 4,
   "metadata": {},
   "outputs": [],
   "source": [
    "# Fit the Bayesian model on the dataset.\n",
    "bayes_model.fit(data)"
   ]
  },
  {
   "cell_type": "markdown",
   "metadata": {},
   "source": [
    "#### Extract conditional probability tables for every variable in the DAG."
   ]
  },
  {
   "cell_type": "code",
   "execution_count": 17,
   "metadata": {},
   "outputs": [
    {
     "data": {
      "text/plain": [
       "tensor([0.0266, 0.0522, 0.0565, 0.6575, 0.0431, 0.0673, 0.0969],\n",
       "       dtype=torch.float64)"
      ]
     },
     "execution_count": 17,
     "metadata": {},
     "output_type": "execute_result"
    }
   ],
   "source": [
    "# Extract labels, probability tables, and a list of incoming variables for each variable in the DAG.\n",
    "# CPL labels and probabilities\n",
    "cpl_cpd = bayes_model.get_cpds(node=\"CPL\")\n",
    "cpl_labels, cpl_proba = cpl_cpd.state_names[\"CPL\"], torch.tensor(cpl_cpd.values.T)\n",
    "\n",
    "#ICU labels, probabilities, and input variables\n",
    "icu_cpd = bayes_model.get_cpds(node=\"ICU\")\n",
    "icu_labels, icu_proba = icu_cpd.state_names[\"ICU\"], torch.tensor(icu_cpd.values.T)\n",
    "icu_input_vars = icu_cpd.variables\n",
    "\n",
    "# CDC labels, probabilities, and input variables\n",
    "cdc_cpd = bayes_model.get_cpds(node=\"CDC\")\n",
    "cdc_labels, cdc_proba = cdc_cpd.state_names[\"CDC\"], torch.tensor(cdc_cpd.values.T)\n",
    "cdc_input_vars = cdc_cpd.variables\n",
    "\n",
    "# HS labels and probabilities\n",
    "hs_cpd = bayes_model.get_cpds(node=\"HS\")\n",
    "hs_labels, hs_proba = hs_cpd.state_names[\"HS\"], torch.tensor(hs_cpd.values.T)\n",
    "\n",
    "# MI labels and probabilities\n",
    "mi_cpd = bayes_model.get_cpds(node=\"MI\")\n",
    "mi_labels, mi_proba = mi_cpd.state_names[\"MI\"], torch.tensor(mi_cpd.values.T)\n",
    "\n",
    "# UI labels and probabilities\n",
    "ui_cpd = bayes_model.get_cpds(node=\"UI\")\n",
    "ui_labels, ui_proba = ui_cpd.state_names[\"UI\"], torch.tensor(ui_cpd.values.T)\n",
    "\n",
    "# SPL labels and probabilities\n",
    "spl_cpd = bayes_model.get_cpds(node=\"SPL\")\n",
    "spl_labels, spl_proba = spl_cpd.state_names[\"SPL\"], torch.tensor(spl_cpd.values.T)\n",
    "\n",
    "# BLG labels, probabilities, and input variables\n",
    "blg_cpd = bayes_model.get_cpds(node=\"BLG\")\n",
    "blg_labels, blg_proba = blg_cpd.state_names[\"BLG\"], torch.tensor(blg_cpd.values.T)\n",
    "blg_input_vars = blg_cpd.variables\n",
    "\n",
    "# CC labels, probabilities, and input variables\n",
    "cc_cpd = bayes_model.get_cpds(node=\"CC\")\n",
    "cc_labels, cc_proba = cc_cpd.state_names[\"CC\"], torch.tensor(cc_cpd.values.T)\n",
    "cc_input_vars = cc_cpd.variables\n",
    "\n",
    "cpl_proba"
   ]
  },
  {
   "cell_type": "markdown",
   "metadata": {},
   "source": [
    "### 2. Construct a DAG in Pyro, built upon the conditional probability tables extracted from the pgmpy Bayesian network."
   ]
  },
  {
   "cell_type": "code",
   "execution_count": 18,
   "metadata": {},
   "outputs": [
    {
     "name": "stdout",
     "output_type": "stream",
     "text": [
      "{'CPL': tensor(3), 'CDC': tensor(0), 'HS': tensor(0), 'MI': tensor(1), 'UI': tensor(2), 'ICU': tensor(1), 'SPL': tensor(1), 'BLG': tensor(5), 'CC': tensor(2)}\n"
     ]
    }
   ],
   "source": [
    "def cc_pyro_model():\n",
    "    CPL = pyro.sample(\"CPL\", dist.Categorical(probs=cpl_proba)) \n",
    "    HS = pyro.sample(\"HS\", dist.Categorical(probs=hs_proba)) \n",
    "    MI = pyro.sample(\"MI\", dist.Categorical(probs=mi_proba)) \n",
    "    UI = pyro.sample(\"UI\", dist.Categorical(probs=ui_proba))\n",
    "    SPL = pyro.sample(\"SPL\", dist.Categorical(probs=spl_proba))\n",
    "    CDC = pyro.sample(\"CDC\", dist.Categorical(probs=cdc_proba[MI][HS][CPL]))\n",
    "    ICU = pyro.sample(\"ICU\", dist.Categorical(probs=icu_proba[UI]))\n",
    "    BLG = pyro.sample(\"BLG\", dist.Categorical(probs=blg_proba[SPL]))\n",
    "    CC = pyro.sample(\"CC\", dist.Categorical(probs=cc_proba[ICU][CDC][BLG]))\n",
    "    return{\"CPL\": CPL, \"CDC\": CDC, \"HS\" : HS, \"MI\": MI, \"UI\": UI,\n",
    "           \"ICU\": ICU, \"SPL\" : SPL, \"BLG\" : BLG, \"CC\" : CC} \n",
    "\n",
    "print(cc_pyro_model())"
   ]
  },
  {
   "cell_type": "markdown",
   "metadata": {},
   "source": [
    "# Test Hypotheses about the Data"
   ]
  },
  {
   "cell_type": "code",
   "execution_count": 19,
   "metadata": {},
   "outputs": [],
   "source": [
    "def test_var_effect(model, j):\n",
    "    A_posterior = pyro.infer.Importance(model, num_samples=50).run() \n",
    "    A_marginal = EmpiricalMarginal(A_posterior,\"CC\")\n",
    "    A_samples = [A_marginal().item() for _ in range(50)]\n",
    "    A_unique, A_counts = np.unique(A_samples, return_counts=True)\n",
    "    samples = [s for s in A_samples if s == j]\n",
    "    return len(samples)/len(A_samples)"
   ]
  },
  {
   "cell_type": "markdown",
   "metadata": {},
   "source": [
    "### Hypothesis 1. Counties in which there are fewer ICU beds report fewer COVID-19 confirmed cases per 100,000 people. "
   ]
  },
  {
   "cell_type": "code",
   "execution_count": 23,
   "metadata": {},
   "outputs": [
    {
     "name": "stdout",
     "output_type": "stream",
     "text": [
      "High {'Very Low': 0.1, 'Low': 0.32, 'Medium': 0.24, 'High': 0.32, 'Very High': 0.34}\n",
      "Low {'Very Low': 0.2, 'Low': 0.2, 'Medium': 0.22, 'High': 0.38, 'Very High': 0.42}\n",
      "Medium {'Very Low': 0.3, 'Low': 0.26, 'Medium': 0.16, 'High': 0.4, 'Very High': 0.3}\n",
      "Very High {'Very Low': 0.28, 'Low': 0.18, 'Medium': 0.16, 'High': 0.2, 'Very High': 0.1}\n"
     ]
    }
   ],
   "source": [
    "# Evaluate and plot conditioned probabilities of county covid cases for each category of ICU bed availability\n",
    "icu_hypothesis_dict = {}\n",
    "\n",
    "for i in range(len(icu_labels)):\n",
    "    icu_conditioned_model = pyro.condition(cc_pyro_model, data={'ICU':torch.tensor(i)})\n",
    "    probability_dict = {}\n",
    "    for j in range(len(cc_labels)):\n",
    "        probability_dict[cc_labels[j]]= test_var_effect(icu_conditioned_model, j)\n",
    "    reordered_cc = [\"Very Low\", \"Low\", \"Medium\", \"High\", \"Very High\"]\n",
    "    reordered_dict = {i: probability_dict[i] for i in reordered_cc}\n",
    "    icu_hypothesis_dict[icu_labels[i]] = reordered_dict\n",
    "    print(icu_labels[i], icu_hypothesis_dict[icu_labels[i]])\n"
   ]
  },
  {
   "cell_type": "code",
   "execution_count": 26,
   "metadata": {},
   "outputs": [
    {
     "name": "stderr",
     "output_type": "stream",
     "text": [
      "No handles with labels found to put in legend.\n"
     ]
    },
    {
     "data": {
      "image/png": "[encoded data removed]",
      "text/plain": [
       "<Figure size 432x288 with 1 Axes>"
      ]
     },
     "metadata": {
      "needs_background": "light"
     },
     "output_type": "display_data"
    }
   ],
   "source": [
    "icu_order = [\"Low\", \"Medium\", \"High\", \"Very High\"]\n",
    "\n",
    "reordered_dict = {i: icu_hypothesis_dict[i] for i in icu_order}\n",
    "\n",
    "data = icu_hypothesis_dict[\"Low\"]\n",
    "names = list(data.keys())\n",
    "values = list(data.values())\n",
    "plt.plot(names, values)\n",
    "plt.legend() \n",
    "plt.title(\"ICU bed availability vs. probability of COVID case rate\")\n",
    "plt.show()"
   ]
  },
  {
   "cell_type": "markdown",
   "metadata": {},
   "source": [
    "###  Hypothesis 2. Counties that ban large gatherings report more COVID-19 confirmed cases per 100,000 people."
   ]
  },
  {
   "cell_type": "code",
   "execution_count": null,
   "metadata": {},
   "outputs": [],
   "source": []
  }
 ],
 "metadata": {
  "kernelspec": {
   "display_name": "Python 3",
   "language": "python",
   "name": "python3"
  },
  "language_info": {
   "codemirror_mode": {
    "name": "ipython",
    "version": 3
   },
   "file_extension": ".py",
   "mimetype": "text/x-python",
   "name": "python",
   "nbconvert_exporter": "python",
   "pygments_lexer": "ipython3",
   "version": "3.6.4"
  }
 },
 "nbformat": 4,
 "nbformat_minor": 2
}
